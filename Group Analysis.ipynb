{
 "cells": [
  {
   "cell_type": "markdown",
   "metadata": {},
   "source": []
  },
  {
   "cell_type": "code",
   "execution_count": 12,
   "metadata": {
    "collapsed": true
   },
   "outputs": [],
   "source": [
    "import pickle\n",
    "import pandas as pd \n",
    "import string\n",
    "from operator import itemgetter\n"
   ]
  },
  {
   "cell_type": "code",
   "execution_count": 13,
   "metadata": {
    "collapsed": false
   },
   "outputs": [],
   "source": [
    "loaded_data= pickle.load(file=open(\"steam_data2.pkl\"))\n",
    "\n",
    "steam_df = pd.io.json.json_normalize(data=loaded_data)\n"
   ]
  },
  {
   "cell_type": "code",
   "execution_count": 18,
   "metadata": {
    "collapsed": false
   },
   "outputs": [
    {
     "data": {
      "text/html": [
       "<div>\n",
       "<table border=\"1\" class=\"dataframe\">\n",
       "  <thead>\n",
       "    <tr style=\"text-align: right;\">\n",
       "      <th></th>\n",
       "      <th>comments.data</th>\n",
       "      <th>comments.paging.cursors.after</th>\n",
       "      <th>comments.paging.cursors.before</th>\n",
       "      <th>comments.paging.next</th>\n",
       "      <th>created_time</th>\n",
       "      <th>id</th>\n",
       "      <th>likes.data</th>\n",
       "      <th>likes.paging.cursors.after</th>\n",
       "      <th>likes.paging.cursors.before</th>\n",
       "      <th>likes.paging.next</th>\n",
       "      <th>message</th>\n",
       "    </tr>\n",
       "  </thead>\n",
       "  <tbody>\n",
       "    <tr>\n",
       "      <th>0</th>\n",
       "      <td>[{u'created_time': u'2017-04-19T17:56:51+0000'...</td>\n",
       "      <td>MQZDZD</td>\n",
       "      <td>MjYZD</td>\n",
       "      <td>NaN</td>\n",
       "      <td>2017-04-19T17:31:29+0000</td>\n",
       "      <td>67919847338_10154576910077339</td>\n",
       "      <td>[{u'id': u'839213412766050', u'name': u'Trễ Mộ...</td>\n",
       "      <td>MTQ3MDAxODk2NjYyMzIyNQZDZD</td>\n",
       "      <td>ODM5MjEzNDEyNzY2MDUw</td>\n",
       "      <td>https://graph.facebook.com/v2.8/67919847338_10...</td>\n",
       "      <td>A new batch of classic Activision games are No...</td>\n",
       "    </tr>\n",
       "    <tr>\n",
       "      <th>1</th>\n",
       "      <td>[{u'created_time': u'2017-04-19T22:07:30+0000'...</td>\n",
       "      <td>MQZDZD</td>\n",
       "      <td>MTUZD</td>\n",
       "      <td>NaN</td>\n",
       "      <td>2017-04-19T17:02:50+0000</td>\n",
       "      <td>67919847338_10154576850882339</td>\n",
       "      <td>[{u'id': u'1556384397935944', u'name': u'Surac...</td>\n",
       "      <td>Njc3NTQ3NDUyMjgzODg3</td>\n",
       "      <td>MTU1NjM4NDM5NzkzNTk0NAZDZD</td>\n",
       "      <td>https://graph.facebook.com/v2.8/67919847338_10...</td>\n",
       "      <td>Man O' War: Corsair - Warhammer Naval Battles ...</td>\n",
       "    </tr>\n",
       "    <tr>\n",
       "      <th>2</th>\n",
       "      <td>[{u'created_time': u'2017-04-19T17:20:20+0000'...</td>\n",
       "      <td>MQZDZD</td>\n",
       "      <td>NgZDZD</td>\n",
       "      <td>NaN</td>\n",
       "      <td>2017-04-19T17:02:49+0000</td>\n",
       "      <td>67919847338_10154576850872339</td>\n",
       "      <td>[{u'id': u'823221387735223', u'name': u'Jang P...</td>\n",
       "      <td>MTQwNzU1NjI5NzM3NzQ0</td>\n",
       "      <td>ODIzMjIxMzg3NzM1MjIz</td>\n",
       "      <td>https://graph.facebook.com/v2.8/67919847338_10...</td>\n",
       "      <td>Today's Deal: Save 67% on The Final Station !*...</td>\n",
       "    </tr>\n",
       "    <tr>\n",
       "      <th>3</th>\n",
       "      <td>[{u'created_time': u'2017-04-19T16:35:52+0000'...</td>\n",
       "      <td>MQZDZD</td>\n",
       "      <td>NgZDZD</td>\n",
       "      <td>NaN</td>\n",
       "      <td>2017-04-19T16:31:21+0000</td>\n",
       "      <td>67919847338_10154576786712339</td>\n",
       "      <td>[{u'id': u'823221387735223', u'name': u'Jang P...</td>\n",
       "      <td>MTAxNTIzNjU5Mzk1OTM4OTAZD</td>\n",
       "      <td>ODIzMjIxMzg3NzM1MjIz</td>\n",
       "      <td>https://graph.facebook.com/v2.8/67919847338_10...</td>\n",
       "      <td>Forts is Now Available on Steam and is 10% off...</td>\n",
       "    </tr>\n",
       "    <tr>\n",
       "      <th>4</th>\n",
       "      <td>[{u'created_time': u'2017-04-19T17:01:58+0000'...</td>\n",
       "      <td>NAZDZD</td>\n",
       "      <td>MTUZD</td>\n",
       "      <td>NaN</td>\n",
       "      <td>2017-04-18T20:33:52+0000</td>\n",
       "      <td>67919847338_10154574571902339</td>\n",
       "      <td>[{u'id': u'505872672849914', u'name': u'Edmund...</td>\n",
       "      <td>NDA2MTA2MzQ2NDQ0OTIx</td>\n",
       "      <td>NTA1ODcyNjcyODQ5OTE0</td>\n",
       "      <td>https://graph.facebook.com/v2.8/67919847338_10...</td>\n",
       "      <td>Flinthook is Now Available on Steam and is 10%...</td>\n",
       "    </tr>\n",
       "  </tbody>\n",
       "</table>\n",
       "</div>"
      ],
      "text/plain": [
       "                                       comments.data  \\\n",
       "0  [{u'created_time': u'2017-04-19T17:56:51+0000'...   \n",
       "1  [{u'created_time': u'2017-04-19T22:07:30+0000'...   \n",
       "2  [{u'created_time': u'2017-04-19T17:20:20+0000'...   \n",
       "3  [{u'created_time': u'2017-04-19T16:35:52+0000'...   \n",
       "4  [{u'created_time': u'2017-04-19T17:01:58+0000'...   \n",
       "\n",
       "  comments.paging.cursors.after comments.paging.cursors.before  \\\n",
       "0                        MQZDZD                          MjYZD   \n",
       "1                        MQZDZD                          MTUZD   \n",
       "2                        MQZDZD                         NgZDZD   \n",
       "3                        MQZDZD                         NgZDZD   \n",
       "4                        NAZDZD                          MTUZD   \n",
       "\n",
       "  comments.paging.next              created_time  \\\n",
       "0                  NaN  2017-04-19T17:31:29+0000   \n",
       "1                  NaN  2017-04-19T17:02:50+0000   \n",
       "2                  NaN  2017-04-19T17:02:49+0000   \n",
       "3                  NaN  2017-04-19T16:31:21+0000   \n",
       "4                  NaN  2017-04-18T20:33:52+0000   \n",
       "\n",
       "                              id  \\\n",
       "0  67919847338_10154576910077339   \n",
       "1  67919847338_10154576850882339   \n",
       "2  67919847338_10154576850872339   \n",
       "3  67919847338_10154576786712339   \n",
       "4  67919847338_10154574571902339   \n",
       "\n",
       "                                          likes.data  \\\n",
       "0  [{u'id': u'839213412766050', u'name': u'Trễ Mộ...   \n",
       "1  [{u'id': u'1556384397935944', u'name': u'Surac...   \n",
       "2  [{u'id': u'823221387735223', u'name': u'Jang P...   \n",
       "3  [{u'id': u'823221387735223', u'name': u'Jang P...   \n",
       "4  [{u'id': u'505872672849914', u'name': u'Edmund...   \n",
       "\n",
       "   likes.paging.cursors.after likes.paging.cursors.before  \\\n",
       "0  MTQ3MDAxODk2NjYyMzIyNQZDZD        ODM5MjEzNDEyNzY2MDUw   \n",
       "1        Njc3NTQ3NDUyMjgzODg3  MTU1NjM4NDM5NzkzNTk0NAZDZD   \n",
       "2        MTQwNzU1NjI5NzM3NzQ0        ODIzMjIxMzg3NzM1MjIz   \n",
       "3   MTAxNTIzNjU5Mzk1OTM4OTAZD        ODIzMjIxMzg3NzM1MjIz   \n",
       "4        NDA2MTA2MzQ2NDQ0OTIx        NTA1ODcyNjcyODQ5OTE0   \n",
       "\n",
       "                                   likes.paging.next  \\\n",
       "0  https://graph.facebook.com/v2.8/67919847338_10...   \n",
       "1  https://graph.facebook.com/v2.8/67919847338_10...   \n",
       "2  https://graph.facebook.com/v2.8/67919847338_10...   \n",
       "3  https://graph.facebook.com/v2.8/67919847338_10...   \n",
       "4  https://graph.facebook.com/v2.8/67919847338_10...   \n",
       "\n",
       "                                             message  \n",
       "0  A new batch of classic Activision games are No...  \n",
       "1  Man O' War: Corsair - Warhammer Naval Battles ...  \n",
       "2  Today's Deal: Save 67% on The Final Station !*...  \n",
       "3  Forts is Now Available on Steam and is 10% off...  \n",
       "4  Flinthook is Now Available on Steam and is 10%...  "
      ]
     },
     "execution_count": 18,
     "metadata": {},
     "output_type": "execute_result"
    }
   ],
   "source": [
    "steam_df.head()"
   ]
  },
  {
   "cell_type": "code",
   "execution_count": 20,
   "metadata": {
    "collapsed": false
   },
   "outputs": [],
   "source": [
    "steam_df.drop( steam_df.columns[[1,2,3,8,9]] ,1 , inplace=True )"
   ]
  },
  {
   "cell_type": "code",
   "execution_count": 21,
   "metadata": {
    "collapsed": false
   },
   "outputs": [
    {
     "data": {
      "text/html": [
       "<div>\n",
       "<table border=\"1\" class=\"dataframe\">\n",
       "  <thead>\n",
       "    <tr style=\"text-align: right;\">\n",
       "      <th></th>\n",
       "      <th>comments.data</th>\n",
       "      <th>created_time</th>\n",
       "      <th>id</th>\n",
       "      <th>likes.data</th>\n",
       "      <th>likes.paging.cursors.after</th>\n",
       "      <th>message</th>\n",
       "    </tr>\n",
       "  </thead>\n",
       "  <tbody>\n",
       "    <tr>\n",
       "      <th>0</th>\n",
       "      <td>[{u'created_time': u'2017-04-19T17:56:51+0000'...</td>\n",
       "      <td>2017-04-19T17:31:29+0000</td>\n",
       "      <td>67919847338_10154576910077339</td>\n",
       "      <td>[{u'id': u'839213412766050', u'name': u'Trễ Mộ...</td>\n",
       "      <td>MTQ3MDAxODk2NjYyMzIyNQZDZD</td>\n",
       "      <td>A new batch of classic Activision games are No...</td>\n",
       "    </tr>\n",
       "    <tr>\n",
       "      <th>1</th>\n",
       "      <td>[{u'created_time': u'2017-04-19T22:07:30+0000'...</td>\n",
       "      <td>2017-04-19T17:02:50+0000</td>\n",
       "      <td>67919847338_10154576850882339</td>\n",
       "      <td>[{u'id': u'1556384397935944', u'name': u'Surac...</td>\n",
       "      <td>Njc3NTQ3NDUyMjgzODg3</td>\n",
       "      <td>Man O' War: Corsair - Warhammer Naval Battles ...</td>\n",
       "    </tr>\n",
       "    <tr>\n",
       "      <th>2</th>\n",
       "      <td>[{u'created_time': u'2017-04-19T17:20:20+0000'...</td>\n",
       "      <td>2017-04-19T17:02:49+0000</td>\n",
       "      <td>67919847338_10154576850872339</td>\n",
       "      <td>[{u'id': u'823221387735223', u'name': u'Jang P...</td>\n",
       "      <td>MTQwNzU1NjI5NzM3NzQ0</td>\n",
       "      <td>Today's Deal: Save 67% on The Final Station !*...</td>\n",
       "    </tr>\n",
       "    <tr>\n",
       "      <th>3</th>\n",
       "      <td>[{u'created_time': u'2017-04-19T16:35:52+0000'...</td>\n",
       "      <td>2017-04-19T16:31:21+0000</td>\n",
       "      <td>67919847338_10154576786712339</td>\n",
       "      <td>[{u'id': u'823221387735223', u'name': u'Jang P...</td>\n",
       "      <td>MTAxNTIzNjU5Mzk1OTM4OTAZD</td>\n",
       "      <td>Forts is Now Available on Steam and is 10% off...</td>\n",
       "    </tr>\n",
       "    <tr>\n",
       "      <th>4</th>\n",
       "      <td>[{u'created_time': u'2017-04-19T17:01:58+0000'...</td>\n",
       "      <td>2017-04-18T20:33:52+0000</td>\n",
       "      <td>67919847338_10154574571902339</td>\n",
       "      <td>[{u'id': u'505872672849914', u'name': u'Edmund...</td>\n",
       "      <td>NDA2MTA2MzQ2NDQ0OTIx</td>\n",
       "      <td>Flinthook is Now Available on Steam and is 10%...</td>\n",
       "    </tr>\n",
       "  </tbody>\n",
       "</table>\n",
       "</div>"
      ],
      "text/plain": [
       "                                       comments.data  \\\n",
       "0  [{u'created_time': u'2017-04-19T17:56:51+0000'...   \n",
       "1  [{u'created_time': u'2017-04-19T22:07:30+0000'...   \n",
       "2  [{u'created_time': u'2017-04-19T17:20:20+0000'...   \n",
       "3  [{u'created_time': u'2017-04-19T16:35:52+0000'...   \n",
       "4  [{u'created_time': u'2017-04-19T17:01:58+0000'...   \n",
       "\n",
       "               created_time                             id  \\\n",
       "0  2017-04-19T17:31:29+0000  67919847338_10154576910077339   \n",
       "1  2017-04-19T17:02:50+0000  67919847338_10154576850882339   \n",
       "2  2017-04-19T17:02:49+0000  67919847338_10154576850872339   \n",
       "3  2017-04-19T16:31:21+0000  67919847338_10154576786712339   \n",
       "4  2017-04-18T20:33:52+0000  67919847338_10154574571902339   \n",
       "\n",
       "                                          likes.data  \\\n",
       "0  [{u'id': u'839213412766050', u'name': u'Trễ Mộ...   \n",
       "1  [{u'id': u'1556384397935944', u'name': u'Surac...   \n",
       "2  [{u'id': u'823221387735223', u'name': u'Jang P...   \n",
       "3  [{u'id': u'823221387735223', u'name': u'Jang P...   \n",
       "4  [{u'id': u'505872672849914', u'name': u'Edmund...   \n",
       "\n",
       "   likes.paging.cursors.after  \\\n",
       "0  MTQ3MDAxODk2NjYyMzIyNQZDZD   \n",
       "1        Njc3NTQ3NDUyMjgzODg3   \n",
       "2        MTQwNzU1NjI5NzM3NzQ0   \n",
       "3   MTAxNTIzNjU5Mzk1OTM4OTAZD   \n",
       "4        NDA2MTA2MzQ2NDQ0OTIx   \n",
       "\n",
       "                                             message  \n",
       "0  A new batch of classic Activision games are No...  \n",
       "1  Man O' War: Corsair - Warhammer Naval Battles ...  \n",
       "2  Today's Deal: Save 67% on The Final Station !*...  \n",
       "3  Forts is Now Available on Steam and is 10% off...  \n",
       "4  Flinthook is Now Available on Steam and is 10%...  "
      ]
     },
     "execution_count": 21,
     "metadata": {},
     "output_type": "execute_result"
    }
   ],
   "source": [
    "steam_df.head()"
   ]
  },
  {
   "cell_type": "code",
   "execution_count": 24,
   "metadata": {
    "collapsed": false
   },
   "outputs": [
    {
     "data": {
      "text/plain": [
       "unicode"
      ]
     },
     "execution_count": 24,
     "metadata": {},
     "output_type": "execute_result"
    }
   ],
   "source": [
    "type(steam_df.created_time.loc[0])"
   ]
  },
  {
   "cell_type": "code",
   "execution_count": null,
   "metadata": {
    "collapsed": true
   },
   "outputs": [],
   "source": []
  },
  {
   "cell_type": "code",
   "execution_count": null,
   "metadata": {
    "collapsed": true
   },
   "outputs": [],
   "source": []
  },
  {
   "cell_type": "code",
   "execution_count": null,
   "metadata": {
    "collapsed": true
   },
   "outputs": [],
   "source": []
  },
  {
   "cell_type": "code",
   "execution_count": null,
   "metadata": {
    "collapsed": false
   },
   "outputs": [],
   "source": []
  },
  {
   "cell_type": "markdown",
   "metadata": {},
   "source": [
    "  "
   ]
  },
  {
   "cell_type": "code",
   "execution_count": null,
   "metadata": {
    "collapsed": false
   },
   "outputs": [],
   "source": [
    "pd.to_datetime"
   ]
  },
  {
   "cell_type": "markdown",
   "metadata": {},
   "source": [
    "### Group by date"
   ]
  },
  {
   "cell_type": "code",
   "execution_count": 25,
   "metadata": {
    "collapsed": false
   },
   "outputs": [
    {
     "data": {
      "text/html": [
       "<div>\n",
       "<table border=\"1\" class=\"dataframe\">\n",
       "  <thead>\n",
       "    <tr style=\"text-align: right;\">\n",
       "      <th></th>\n",
       "      <th>created_time</th>\n",
       "    </tr>\n",
       "  </thead>\n",
       "  <tbody>\n",
       "    <tr>\n",
       "      <th>0</th>\n",
       "      <td>2017-04-19 17:31:29</td>\n",
       "    </tr>\n",
       "    <tr>\n",
       "      <th>1</th>\n",
       "      <td>2017-04-19 17:02:50</td>\n",
       "    </tr>\n",
       "    <tr>\n",
       "      <th>2</th>\n",
       "      <td>2017-04-19 17:02:49</td>\n",
       "    </tr>\n",
       "    <tr>\n",
       "      <th>3</th>\n",
       "      <td>2017-04-19 16:31:21</td>\n",
       "    </tr>\n",
       "    <tr>\n",
       "      <th>4</th>\n",
       "      <td>2017-04-18 20:33:52</td>\n",
       "    </tr>\n",
       "  </tbody>\n",
       "</table>\n",
       "</div>"
      ],
      "text/plain": [
       "         created_time\n",
       "0 2017-04-19 17:31:29\n",
       "1 2017-04-19 17:02:50\n",
       "2 2017-04-19 17:02:49\n",
       "3 2017-04-19 16:31:21\n",
       "4 2017-04-18 20:33:52"
      ]
     },
     "execution_count": 25,
     "metadata": {},
     "output_type": "execute_result"
    }
   ],
   "source": [
    "date_df =pd.DataFrame(pd.to_datetime(group_df.created_time))\n",
    "date_df.head()"
   ]
  },
  {
   "cell_type": "code",
   "execution_count": 26,
   "metadata": {
    "collapsed": false
   },
   "outputs": [
    {
     "data": {
      "text/plain": [
       "Timestamp('2017-04-19 17:31:29')"
      ]
     },
     "execution_count": 26,
     "metadata": {},
     "output_type": "execute_result"
    }
   ],
   "source": [
    "date_df.created_time.loc[0]"
   ]
  },
  {
   "cell_type": "code",
   "execution_count": 42,
   "metadata": {
    "collapsed": false,
    "scrolled": false
   },
   "outputs": [
    {
     "data": {
      "text/plain": [
       "<matplotlib.axes._subplots.AxesSubplot at 0x18bb8320>"
      ]
     },
     "execution_count": 42,
     "metadata": {},
     "output_type": "execute_result"
    },
    {
     "data": {
      "image/png": "[encoded data removed]",
      "text/plain": [
       "<matplotlib.figure.Figure at 0x17f46a20>"
      ]
     },
     "metadata": {},
     "output_type": "display_data"
    }
   ],
   "source": [
    "%matplotlib inline\n",
    "fig=date_df.groupby(date_df.created_time.dt.month).count().plot(kind=\"bar\",title=\"Posts per Month\")\n",
    "fig"
   ]
  },
  {
   "cell_type": "code",
   "execution_count": 43,
   "metadata": {
    "collapsed": false
   },
   "outputs": [
    {
     "data": {
      "text/plain": [
       "<matplotlib.axes._subplots.AxesSubplot at 0x1511f240>"
      ]
     },
     "execution_count": 43,
     "metadata": {},
     "output_type": "execute_result"
    },
    {
     "data": {
      "image/png": "[encoded data removed]",
      "text/plain": [
       "<matplotlib.figure.Figure at 0x291e5128>"
      ]
     },
     "metadata": {},
     "output_type": "display_data"
    }
   ],
   "source": [
    "date_df.groupby(date_df.created_time.dt.year).count().plot(kind=\"bar\", legend=False,title=\"Posts per Year\")\n"
   ]
  },
  {
   "cell_type": "code",
   "execution_count": null,
   "metadata": {
    "collapsed": true
   },
   "outputs": [],
   "source": []
  },
  {
   "cell_type": "code",
   "execution_count": 44,
   "metadata": {
    "collapsed": false
   },
   "outputs": [
    {
     "data": {
      "text/html": [
       "<div>\n",
       "<table border=\"1\" class=\"dataframe\">\n",
       "  <thead>\n",
       "    <tr style=\"text-align: right;\">\n",
       "      <th></th>\n",
       "      <th>created_time</th>\n",
       "    </tr>\n",
       "  </thead>\n",
       "  <tbody>\n",
       "    <tr>\n",
       "      <th>0</th>\n",
       "      <td>2017-04-19 17:31:29</td>\n",
       "    </tr>\n",
       "    <tr>\n",
       "      <th>1</th>\n",
       "      <td>2017-04-19 17:02:50</td>\n",
       "    </tr>\n",
       "    <tr>\n",
       "      <th>2</th>\n",
       "      <td>2017-04-19 17:02:49</td>\n",
       "    </tr>\n",
       "    <tr>\n",
       "      <th>3</th>\n",
       "      <td>2017-04-19 16:31:21</td>\n",
       "    </tr>\n",
       "    <tr>\n",
       "      <th>4</th>\n",
       "      <td>2017-04-18 20:33:52</td>\n",
       "    </tr>\n",
       "    <tr>\n",
       "      <th>5</th>\n",
       "      <td>2017-04-18 17:17:56</td>\n",
       "    </tr>\n",
       "    <tr>\n",
       "      <th>6</th>\n",
       "      <td>2017-04-18 17:17:55</td>\n",
       "    </tr>\n",
       "    <tr>\n",
       "      <th>7</th>\n",
       "      <td>2017-04-18 17:17:54</td>\n",
       "    </tr>\n",
       "    <tr>\n",
       "      <th>8</th>\n",
       "      <td>2017-04-18 17:17:53</td>\n",
       "    </tr>\n",
       "    <tr>\n",
       "      <th>9</th>\n",
       "      <td>2017-04-18 17:01:57</td>\n",
       "    </tr>\n",
       "    <tr>\n",
       "      <th>10</th>\n",
       "      <td>2017-04-18 16:18:16</td>\n",
       "    </tr>\n",
       "    <tr>\n",
       "      <th>11</th>\n",
       "      <td>2017-04-18 16:18:15</td>\n",
       "    </tr>\n",
       "    <tr>\n",
       "      <th>12</th>\n",
       "      <td>2017-04-17 17:16:38</td>\n",
       "    </tr>\n",
       "    <tr>\n",
       "      <th>13</th>\n",
       "      <td>2017-04-16 17:04:55</td>\n",
       "    </tr>\n",
       "    <tr>\n",
       "      <th>14</th>\n",
       "      <td>2017-04-15 17:04:37</td>\n",
       "    </tr>\n",
       "    <tr>\n",
       "      <th>15</th>\n",
       "      <td>2017-04-14 17:03:32</td>\n",
       "    </tr>\n",
       "    <tr>\n",
       "      <th>16</th>\n",
       "      <td>2017-04-13 18:17:17</td>\n",
       "    </tr>\n",
       "    <tr>\n",
       "      <th>17</th>\n",
       "      <td>2017-04-13 18:17:16</td>\n",
       "    </tr>\n",
       "    <tr>\n",
       "      <th>18</th>\n",
       "      <td>2017-04-13 17:18:55</td>\n",
       "    </tr>\n",
       "    <tr>\n",
       "      <th>19</th>\n",
       "      <td>2017-04-13 17:18:54</td>\n",
       "    </tr>\n",
       "    <tr>\n",
       "      <th>20</th>\n",
       "      <td>2017-04-13 17:02:51</td>\n",
       "    </tr>\n",
       "    <tr>\n",
       "      <th>21</th>\n",
       "      <td>2017-04-13 16:02:15</td>\n",
       "    </tr>\n",
       "    <tr>\n",
       "      <th>22</th>\n",
       "      <td>2017-04-13 03:57:43</td>\n",
       "    </tr>\n",
       "    <tr>\n",
       "      <th>23</th>\n",
       "      <td>2017-04-12 17:03:24</td>\n",
       "    </tr>\n",
       "    <tr>\n",
       "      <th>24</th>\n",
       "      <td>2017-04-12 17:03:23</td>\n",
       "    </tr>\n",
       "    <tr>\n",
       "      <th>25</th>\n",
       "      <td>2017-04-11 20:06:11</td>\n",
       "    </tr>\n",
       "    <tr>\n",
       "      <th>26</th>\n",
       "      <td>2017-04-11 17:25:48</td>\n",
       "    </tr>\n",
       "    <tr>\n",
       "      <th>27</th>\n",
       "      <td>2017-04-11 17:25:37</td>\n",
       "    </tr>\n",
       "    <tr>\n",
       "      <th>28</th>\n",
       "      <td>2017-04-11 17:25:35</td>\n",
       "    </tr>\n",
       "    <tr>\n",
       "      <th>29</th>\n",
       "      <td>2017-04-11 17:09:53</td>\n",
       "    </tr>\n",
       "    <tr>\n",
       "      <th>...</th>\n",
       "      <td>...</td>\n",
       "    </tr>\n",
       "    <tr>\n",
       "      <th>271</th>\n",
       "      <td>2017-01-14 18:10:37</td>\n",
       "    </tr>\n",
       "    <tr>\n",
       "      <th>272</th>\n",
       "      <td>2017-01-13 18:28:14</td>\n",
       "    </tr>\n",
       "    <tr>\n",
       "      <th>273</th>\n",
       "      <td>2017-01-13 18:13:30</td>\n",
       "    </tr>\n",
       "    <tr>\n",
       "      <th>274</th>\n",
       "      <td>2017-01-13 17:41:00</td>\n",
       "    </tr>\n",
       "    <tr>\n",
       "      <th>275</th>\n",
       "      <td>2017-01-13 17:07:55</td>\n",
       "    </tr>\n",
       "    <tr>\n",
       "      <th>276</th>\n",
       "      <td>2017-01-13 15:01:22</td>\n",
       "    </tr>\n",
       "    <tr>\n",
       "      <th>277</th>\n",
       "      <td>2017-01-12 18:09:58</td>\n",
       "    </tr>\n",
       "    <tr>\n",
       "      <th>278</th>\n",
       "      <td>2017-01-12 18:09:56</td>\n",
       "    </tr>\n",
       "    <tr>\n",
       "      <th>279</th>\n",
       "      <td>2017-01-12 18:09:56</td>\n",
       "    </tr>\n",
       "    <tr>\n",
       "      <th>280</th>\n",
       "      <td>2017-01-12 15:09:38</td>\n",
       "    </tr>\n",
       "    <tr>\n",
       "      <th>281</th>\n",
       "      <td>2017-01-12 11:06:58</td>\n",
       "    </tr>\n",
       "    <tr>\n",
       "      <th>282</th>\n",
       "      <td>2017-01-12 08:02:14</td>\n",
       "    </tr>\n",
       "    <tr>\n",
       "      <th>283</th>\n",
       "      <td>2017-01-11 18:04:32</td>\n",
       "    </tr>\n",
       "    <tr>\n",
       "      <th>284</th>\n",
       "      <td>2017-01-11 18:04:32</td>\n",
       "    </tr>\n",
       "    <tr>\n",
       "      <th>285</th>\n",
       "      <td>2017-01-10 18:16:50</td>\n",
       "    </tr>\n",
       "    <tr>\n",
       "      <th>286</th>\n",
       "      <td>2017-01-10 18:16:49</td>\n",
       "    </tr>\n",
       "    <tr>\n",
       "      <th>287</th>\n",
       "      <td>2017-01-10 18:01:13</td>\n",
       "    </tr>\n",
       "    <tr>\n",
       "      <th>288</th>\n",
       "      <td>2017-01-09 18:03:38</td>\n",
       "    </tr>\n",
       "    <tr>\n",
       "      <th>289</th>\n",
       "      <td>2017-01-08 18:03:42</td>\n",
       "    </tr>\n",
       "    <tr>\n",
       "      <th>290</th>\n",
       "      <td>2017-01-07 18:13:54</td>\n",
       "    </tr>\n",
       "    <tr>\n",
       "      <th>291</th>\n",
       "      <td>2017-01-06 19:33:39</td>\n",
       "    </tr>\n",
       "    <tr>\n",
       "      <th>292</th>\n",
       "      <td>2017-01-06 18:04:31</td>\n",
       "    </tr>\n",
       "    <tr>\n",
       "      <th>293</th>\n",
       "      <td>2017-01-05 18:21:44</td>\n",
       "    </tr>\n",
       "    <tr>\n",
       "      <th>294</th>\n",
       "      <td>2017-01-05 18:05:42</td>\n",
       "    </tr>\n",
       "    <tr>\n",
       "      <th>295</th>\n",
       "      <td>2017-01-04 18:00:28</td>\n",
       "    </tr>\n",
       "    <tr>\n",
       "      <th>296</th>\n",
       "      <td>2017-01-03 18:23:17</td>\n",
       "    </tr>\n",
       "    <tr>\n",
       "      <th>297</th>\n",
       "      <td>2017-01-03 18:23:15</td>\n",
       "    </tr>\n",
       "    <tr>\n",
       "      <th>298</th>\n",
       "      <td>2017-01-03 18:09:49</td>\n",
       "    </tr>\n",
       "    <tr>\n",
       "      <th>299</th>\n",
       "      <td>2017-01-02 18:11:07</td>\n",
       "    </tr>\n",
       "    <tr>\n",
       "      <th>300</th>\n",
       "      <td>2017-01-01 15:24:50</td>\n",
       "    </tr>\n",
       "  </tbody>\n",
       "</table>\n",
       "<p>301 rows × 1 columns</p>\n",
       "</div>"
      ],
      "text/plain": [
       "           created_time\n",
       "0   2017-04-19 17:31:29\n",
       "1   2017-04-19 17:02:50\n",
       "2   2017-04-19 17:02:49\n",
       "3   2017-04-19 16:31:21\n",
       "4   2017-04-18 20:33:52\n",
       "5   2017-04-18 17:17:56\n",
       "6   2017-04-18 17:17:55\n",
       "7   2017-04-18 17:17:54\n",
       "8   2017-04-18 17:17:53\n",
       "9   2017-04-18 17:01:57\n",
       "10  2017-04-18 16:18:16\n",
       "11  2017-04-18 16:18:15\n",
       "12  2017-04-17 17:16:38\n",
       "13  2017-04-16 17:04:55\n",
       "14  2017-04-15 17:04:37\n",
       "15  2017-04-14 17:03:32\n",
       "16  2017-04-13 18:17:17\n",
       "17  2017-04-13 18:17:16\n",
       "18  2017-04-13 17:18:55\n",
       "19  2017-04-13 17:18:54\n",
       "20  2017-04-13 17:02:51\n",
       "21  2017-04-13 16:02:15\n",
       "22  2017-04-13 03:57:43\n",
       "23  2017-04-12 17:03:24\n",
       "24  2017-04-12 17:03:23\n",
       "25  2017-04-11 20:06:11\n",
       "26  2017-04-11 17:25:48\n",
       "27  2017-04-11 17:25:37\n",
       "28  2017-04-11 17:25:35\n",
       "29  2017-04-11 17:09:53\n",
       "..                  ...\n",
       "271 2017-01-14 18:10:37\n",
       "272 2017-01-13 18:28:14\n",
       "273 2017-01-13 18:13:30\n",
       "274 2017-01-13 17:41:00\n",
       "275 2017-01-13 17:07:55\n",
       "276 2017-01-13 15:01:22\n",
       "277 2017-01-12 18:09:58\n",
       "278 2017-01-12 18:09:56\n",
       "279 2017-01-12 18:09:56\n",
       "280 2017-01-12 15:09:38\n",
       "281 2017-01-12 11:06:58\n",
       "282 2017-01-12 08:02:14\n",
       "283 2017-01-11 18:04:32\n",
       "284 2017-01-11 18:04:32\n",
       "285 2017-01-10 18:16:50\n",
       "286 2017-01-10 18:16:49\n",
       "287 2017-01-10 18:01:13\n",
       "288 2017-01-09 18:03:38\n",
       "289 2017-01-08 18:03:42\n",
       "290 2017-01-07 18:13:54\n",
       "291 2017-01-06 19:33:39\n",
       "292 2017-01-06 18:04:31\n",
       "293 2017-01-05 18:21:44\n",
       "294 2017-01-05 18:05:42\n",
       "295 2017-01-04 18:00:28\n",
       "296 2017-01-03 18:23:17\n",
       "297 2017-01-03 18:23:15\n",
       "298 2017-01-03 18:09:49\n",
       "299 2017-01-02 18:11:07\n",
       "300 2017-01-01 15:24:50\n",
       "\n",
       "[301 rows x 1 columns]"
      ]
     },
     "execution_count": 44,
     "metadata": {},
     "output_type": "execute_result"
    }
   ],
   "source": [
    "date_df[ date_df.created_time > \"1-1-2017\"]"
   ]
  },
  {
   "cell_type": "code",
   "execution_count": null,
   "metadata": {
    "collapsed": false
   },
   "outputs": [],
   "source": [
    "\n",
    "fig=date_df.groupby(date_df.created_time.dt.day).count().plot(kind=\"bar\", legend=False,title=\"Posts per Day\")\n"
   ]
  },
  {
   "cell_type": "markdown",
   "metadata": {},
   "source": [
    "### Top People Commenting"
   ]
  },
  {
   "cell_type": "code",
   "execution_count": null,
   "metadata": {
    "collapsed": true
   },
   "outputs": [],
   "source": []
  },
  {
   "cell_type": "markdown",
   "metadata": {},
   "source": [
    "### Flatten Comments "
   ]
  },
  {
   "cell_type": "code",
   "execution_count": null,
   "metadata": {
    "collapsed": false
   },
   "outputs": [],
   "source": []
  },
  {
   "cell_type": "code",
   "execution_count": null,
   "metadata": {
    "collapsed": true
   },
   "outputs": [],
   "source": [
    "\n"
   ]
  }
 ],
 "metadata": {
  "anaconda-cloud": {},
  "kernelspec": {
   "display_name": "Python [Root]",
   "language": "python",
   "name": "Python [Root]"
  },
  "language_info": {
   "codemirror_mode": {
    "name": "ipython",
    "version": 2
   },
   "file_extension": ".py",
   "mimetype": "text/x-python",
   "name": "python",
   "nbconvert_exporter": "python",
   "pygments_lexer": "ipython2",
   "version": "2.7.12"
  }
 },
 "nbformat": 4,
 "nbformat_minor": 0
}
